{
  "nbformat": 4,
  "nbformat_minor": 0,
  "metadata": {
    "colab": {
      "name": "DCGAN.ipynb",
      "version": "0.3.2",
      "provenance": [],
      "collapsed_sections": [],
      "include_colab_link": true
    },
    "kernelspec": {
      "name": "python3",
      "display_name": "Python 3"
    },
    "accelerator": "GPU"
  },
  "cells": [
    {
      "cell_type": "markdown",
      "metadata": {
        "id": "view-in-github",
        "colab_type": "text"
      },
      "source": [
        "<a href=\"https://colab.research.google.com/github/daliavaleriani/gan/blob/master/DCGAN.ipynb\" target=\"_parent\"><img src=\"https://colab.research.google.com/assets/colab-badge.svg\" alt=\"Open In Colab\"/></a>"
      ]
    },
    {
      "metadata": {
        "id": "vqUB3yyMKsnE",
        "colab_type": "text"
      },
      "cell_type": "markdown",
      "source": [
        "# DCGAN"
      ]
    },
    {
      "metadata": {
        "id": "QwNlhdWJtwAZ",
        "colab_type": "text"
      },
      "cell_type": "markdown",
      "source": [
        "## Installazioni ed imports"
      ]
    },
    {
      "metadata": {
        "id": "W7VCf8jXKkzr",
        "colab_type": "code",
        "outputId": "483d0fde-6c03-4326-bb8c-851c12ec2a72",
        "colab": {
          "base_uri": "https://localhost:8080/",
          "height": 153
        }
      },
      "cell_type": "code",
      "source": [
        "!pip install torch torchvision\n",
        "!pip install Pillow==4.1.1"
      ],
      "execution_count": 0,
      "outputs": [
        {
          "output_type": "stream",
          "text": [
            "Requirement already satisfied: torch in /usr/local/lib/python3.6/dist-packages (1.0.1.post2)\n",
            "Requirement already satisfied: torchvision in /usr/local/lib/python3.6/dist-packages (0.2.2.post3)\n",
            "Requirement already satisfied: pillow>=4.1.1 in /usr/local/lib/python3.6/dist-packages (from torchvision) (4.1.1)\n",
            "Requirement already satisfied: six in /usr/local/lib/python3.6/dist-packages (from torchvision) (1.11.0)\n",
            "Requirement already satisfied: numpy in /usr/local/lib/python3.6/dist-packages (from torchvision) (1.14.6)\n",
            "Requirement already satisfied: olefile in /usr/local/lib/python3.6/dist-packages (from pillow>=4.1.1->torchvision) (0.46)\n",
            "Requirement already satisfied: Pillow==4.1.1 in /usr/local/lib/python3.6/dist-packages (4.1.1)\n",
            "Requirement already satisfied: olefile in /usr/local/lib/python3.6/dist-packages (from Pillow==4.1.1) (0.46)\n"
          ],
          "name": "stdout"
        }
      ]
    },
    {
      "metadata": {
        "id": "aWIyenaRKrtg",
        "colab_type": "code",
        "colab": {}
      },
      "cell_type": "code",
      "source": [
        "import os\n",
        "import pickle\n",
        "import numpy as np\n",
        "import torch\n",
        "import torch.nn as nn\n",
        "import torch.optim as optim\n",
        "from torch.utils.data import DataLoader\n",
        "from torchvision import datasets, transforms\n",
        "from torchvision.utils import save_image, make_grid\n",
        "\n",
        "import matplotlib.pyplot as plt\n",
        "%matplotlib inline"
      ],
      "execution_count": 0,
      "outputs": []
    },
    {
      "metadata": {
        "id": "lFro2L7bgEid",
        "colab_type": "code",
        "outputId": "4ef72779-4bff-463a-f750-9ca70ca1d4e9",
        "colab": {
          "base_uri": "https://localhost:8080/",
          "height": 34
        }
      },
      "cell_type": "code",
      "source": [
        "device = torch.device(\"cuda\" if torch.cuda.is_available() else \"cpu\")\n",
        "print(device)"
      ],
      "execution_count": 0,
      "outputs": [
        {
          "output_type": "stream",
          "text": [
            "cuda\n"
          ],
          "name": "stdout"
        }
      ]
    },
    {
      "metadata": {
        "id": "kvxkA5tV_fOj",
        "colab_type": "text"
      },
      "cell_type": "markdown",
      "source": [
        "##MNIST"
      ]
    },
    {
      "metadata": {
        "id": "x6-9Cd0cK8aN",
        "colab_type": "code",
        "colab": {}
      },
      "cell_type": "code",
      "source": [
        "# Inizializzazione dei pesi della rete:\n",
        "\n",
        "def initialize_weights(model):\n",
        "    for m in model.modules():\n",
        "        if isinstance(m, nn.Conv2d):\n",
        "            m.weight.data.normal_(0, 0.02)\n",
        "            m.bias.data.zero_()\n",
        "        elif isinstance(m, nn.ConvTranspose2d):\n",
        "            m.weight.data.normal_(0, 0.02)\n",
        "            m.bias.data.zero_()\n",
        "        elif isinstance(m, nn.Linear):\n",
        "            m.weight.data.normal_(0, 0.02)\n",
        "            m.bias.data.zero_()"
      ],
      "execution_count": 0,
      "outputs": []
    },
    {
      "metadata": {
        "id": "mL2AGBfILGR7",
        "colab_type": "code",
        "colab": {}
      },
      "cell_type": "code",
      "source": [
        "class Generator(nn.Module):\n",
        "    \n",
        "    def __init__(self):\n",
        "        super(Generator, self).__init__()\n",
        "        \n",
        "        self.fc = nn.Sequential(\n",
        "            nn.Linear(62, 1024),\n",
        "            nn.BatchNorm1d(1024),\n",
        "            nn.ReLU(),\n",
        "            nn.Linear(1024, 128 * 7 * 7),\n",
        "            nn.BatchNorm1d(128 * 7 * 7),\n",
        "            nn.ReLU(),\n",
        "        )\n",
        "        \n",
        "        self.deconv = nn.Sequential(\n",
        "            nn.ConvTranspose2d(128, 64, kernel_size=4, stride=2, padding=1),\n",
        "            nn.BatchNorm2d(64),\n",
        "            nn.ReLU(),\n",
        "            nn.ConvTranspose2d(64, 1, kernel_size=4, stride=2, padding=1),\n",
        "            nn.Sigmoid(),\n",
        "        )\n",
        "        \n",
        "        initialize_weights(self)\n",
        "\n",
        "    def forward(self, input):\n",
        "        x = self.fc(input)\n",
        "        x = x.view(-1, 128, 7, 7)\n",
        "        x = self.deconv(x)\n",
        "        return x"
      ],
      "execution_count": 0,
      "outputs": []
    },
    {
      "metadata": {
        "id": "xBCfUDl7LIMw",
        "colab_type": "code",
        "colab": {}
      },
      "cell_type": "code",
      "source": [
        "# Generator size test:\n",
        "\n",
        "G = Generator()\n",
        "input = torch.rand((32, 62))\n",
        "out = G(input)\n",
        "print(out.size())"
      ],
      "execution_count": 0,
      "outputs": []
    },
    {
      "metadata": {
        "id": "XTQlU5xeLJzI",
        "colab_type": "code",
        "outputId": "0503f274-5379-475a-e26b-deb3af76d529",
        "colab": {
          "base_uri": "https://localhost:8080/",
          "height": 306
        }
      },
      "cell_type": "code",
      "source": [
        "G"
      ],
      "execution_count": 0,
      "outputs": [
        {
          "output_type": "execute_result",
          "data": {
            "text/plain": [
              "Generator(\n",
              "  (fc): Sequential(\n",
              "    (0): Linear(in_features=62, out_features=1024, bias=True)\n",
              "    (1): BatchNorm1d(1024, eps=1e-05, momentum=0.1, affine=True, track_running_stats=True)\n",
              "    (2): ReLU()\n",
              "    (3): Linear(in_features=1024, out_features=6272, bias=True)\n",
              "    (4): BatchNorm1d(6272, eps=1e-05, momentum=0.1, affine=True, track_running_stats=True)\n",
              "    (5): ReLU()\n",
              "  )\n",
              "  (deconv): Sequential(\n",
              "    (0): ConvTranspose2d(128, 64, kernel_size=(4, 4), stride=(2, 2), padding=(1, 1))\n",
              "    (1): BatchNorm2d(64, eps=1e-05, momentum=0.1, affine=True, track_running_stats=True)\n",
              "    (2): ReLU()\n",
              "    (3): ConvTranspose2d(64, 1, kernel_size=(4, 4), stride=(2, 2), padding=(1, 1))\n",
              "    (4): Sigmoid()\n",
              "  )\n",
              ")"
            ]
          },
          "metadata": {
            "tags": []
          },
          "execution_count": 7
        }
      ]
    },
    {
      "metadata": {
        "id": "OGz3LYNtMLFz",
        "colab_type": "text"
      },
      "cell_type": "markdown",
      "source": [
        "* Si inserisce un'immagine 28x28 e si genera un valore numerico tra (0-1);\n",
        "* Invece di utilizzare MaxPooling2d, riduciamo la dimensione dell'immagine semplicemente dimezzandola."
      ]
    },
    {
      "metadata": {
        "id": "sm32fjlaLLy_",
        "colab_type": "code",
        "colab": {}
      },
      "cell_type": "code",
      "source": [
        "class Discriminator(nn.Module):\n",
        "    \n",
        "    def __init__(self):\n",
        "        super(Discriminator, self).__init__()\n",
        "        \n",
        "        self.conv = nn.Sequential(\n",
        "            nn.Conv2d(1, 64, kernel_size=4, stride=2, padding=1),\n",
        "            nn.LeakyReLU(0.2),\n",
        "            nn.Conv2d(64, 128, kernel_size=4, stride=2, padding=1),\n",
        "            nn.BatchNorm2d(128),\n",
        "            nn.LeakyReLU(0.2),\n",
        "        )\n",
        "        \n",
        "        self.fc = nn.Sequential(\n",
        "            nn.Linear(128 * 7 * 7, 1024),\n",
        "            nn.BatchNorm1d(1024),\n",
        "            nn.LeakyReLU(0.2),\n",
        "            nn.Linear(1024, 1),\n",
        "            nn.Sigmoid(),\n",
        "        )\n",
        "        \n",
        "        initialize_weights(self)\n",
        "    \n",
        "    def forward(self, input):\n",
        "        x = self.conv(input)\n",
        "        x = x.view(-1, 128 * 7 * 7)\n",
        "        x = self.fc(x)\n",
        "        return x"
      ],
      "execution_count": 0,
      "outputs": []
    },
    {
      "metadata": {
        "id": "PuWeUBJbLRAF",
        "colab_type": "code",
        "colab": {}
      },
      "cell_type": "code",
      "source": [
        "# Discriminator Size Test:\n",
        "\n",
        "D = Discriminator()\n",
        "input = torch.rand((32, 1, 28, 28))\n",
        "out = D(input)\n",
        "print(out.size())"
      ],
      "execution_count": 0,
      "outputs": []
    },
    {
      "metadata": {
        "id": "P59O-vk-LS3N",
        "colab_type": "code",
        "outputId": "7395eaf5-a737-4e0c-e917-ac594c5b0237",
        "colab": {
          "base_uri": "https://localhost:8080/",
          "height": 289
        }
      },
      "cell_type": "code",
      "source": [
        "D"
      ],
      "execution_count": 0,
      "outputs": [
        {
          "output_type": "execute_result",
          "data": {
            "text/plain": [
              "Discriminator(\n",
              "  (conv): Sequential(\n",
              "    (0): Conv2d(1, 64, kernel_size=(4, 4), stride=(2, 2), padding=(1, 1))\n",
              "    (1): LeakyReLU(negative_slope=0.2)\n",
              "    (2): Conv2d(64, 128, kernel_size=(4, 4), stride=(2, 2), padding=(1, 1))\n",
              "    (3): BatchNorm2d(128, eps=1e-05, momentum=0.1, affine=True, track_running_stats=True)\n",
              "    (4): LeakyReLU(negative_slope=0.2)\n",
              "  )\n",
              "  (fc): Sequential(\n",
              "    (0): Linear(in_features=6272, out_features=1024, bias=True)\n",
              "    (1): BatchNorm1d(1024, eps=1e-05, momentum=0.1, affine=True, track_running_stats=True)\n",
              "    (2): LeakyReLU(negative_slope=0.2)\n",
              "    (3): Linear(in_features=1024, out_features=1, bias=True)\n",
              "    (4): Sigmoid()\n",
              "  )\n",
              ")"
            ]
          },
          "metadata": {
            "tags": []
          },
          "execution_count": 10
        }
      ]
    },
    {
      "metadata": {
        "id": "pN7nZ9MAMTDf",
        "colab_type": "text"
      },
      "cell_type": "markdown",
      "source": [
        "* Si utilizza la BatchNorm sia per il Generatore che per il Discriminatore;\n",
        "* Per il Generatore utilizziamo la funzione di attivazione ReLU, mentre per il Discriminatore usiamo la LeakyReLU."
      ]
    },
    {
      "metadata": {
        "id": "B-IfgeSoLTee",
        "colab_type": "code",
        "colab": {}
      },
      "cell_type": "code",
      "source": [
        "# Iperparametri:\n",
        "\n",
        "batch_size = 128\n",
        "lr = 0.0002\n",
        "z_dim = 62\n",
        "num_epochs = 25\n",
        "sample_num = 16\n",
        "log_dir = './logs'"
      ],
      "execution_count": 0,
      "outputs": []
    },
    {
      "metadata": {
        "id": "k3qadfviLV70",
        "colab_type": "code",
        "colab": {}
      },
      "cell_type": "code",
      "source": [
        "# Creazione di un oggetto \"model\" e di un ottimizzatore:\n",
        "\n",
        "# Initialize network:\n",
        "G = Generator().to(device)\n",
        "D = Discriminator().to(device)\n",
        "\n",
        "# Optimizer\n",
        "G_optimizer = optim.Adam(G.parameters(), lr=lr, betas=(0.5, 0.999))\n",
        "D_optimizer = optim.Adam(D.parameters(), lr=lr, betas=(0.5, 0.999))\n",
        "\n",
        "# Loss:\n",
        "criterion = nn.BCELoss()"
      ],
      "execution_count": 0,
      "outputs": []
    },
    {
      "metadata": {
        "id": "fNDDF1bALXgj",
        "colab_type": "code",
        "colab": {}
      },
      "cell_type": "code",
      "source": [
        "# Le immagini sono standardizzate con [0,1] perché sono solo pre-elaborate. Per questo motivo si utilizza\n",
        "# Sigmoid nello strato di output del Generatore, piuttosto che la tanh, la quale standardzza con [-1,1].\n",
        "\n",
        "# Caricamento del dataset:\n",
        "transform = transforms.Compose([\n",
        "    transforms.ToTensor()\n",
        "])\n",
        "dataset = datasets.MNIST('data/mnist', train=True, download=True, transform=transform)\n",
        "data_loader = DataLoader(dataset, batch_size=batch_size, shuffle=True, drop_last=True)"
      ],
      "execution_count": 0,
      "outputs": []
    },
    {
      "metadata": {
        "id": "pL5WAnIWLaDr",
        "colab_type": "code",
        "colab": {}
      },
      "cell_type": "code",
      "source": [
        "def train(D, G, criterion, D_optimizer, G_optimizer, data_loader):\n",
        "    # Training:\n",
        "    D.train()\n",
        "    G.train()\n",
        "\n",
        "    # La funzione obiettivo del Discriminatore consiste in due termini, uno per le immagini reali\n",
        "    # ed uno per le immagini \"false\".\n",
        "    y_real = torch.ones(batch_size, 1)\n",
        "    y_fake = torch.zeros(batch_size, 1)\n",
        "    \n",
        "    y_real = y_real.to(device)\n",
        "    y_fake = y_fake.to(device)\n",
        "\n",
        "    D_running_loss = 0\n",
        "    G_running_loss = 0\n",
        "    for batch_idx, (real_images, _) in enumerate(data_loader):\n",
        "        z = torch.rand((batch_size, z_dim))\n",
        "        real_images, z = real_images.to(device), z.to(device)\n",
        "\n",
        "        # Aggiornamento del discrimantore:\n",
        "        D_optimizer.zero_grad()\n",
        "\n",
        "        D_real = D(real_images)\n",
        "        D_real_loss = criterion(D_real, y_real)\n",
        "\n",
        "        fake_images = G(z)\n",
        "        D_fake = D(fake_images.detach())\n",
        "        D_fake_loss = criterion(D_fake, y_fake)\n",
        "\n",
        "        # Riduzione al minimo della somma delle due loss:\n",
        "        D_loss = D_real_loss + D_fake_loss\n",
        "        D_loss.backward()\n",
        "        D_optimizer.step()\n",
        "        D_running_loss += D_loss.item()\n",
        "\n",
        "        # Aggiornamento del generatore:\n",
        "        z = torch.rand((batch_size, z_dim))\n",
        "        z = z.to(device)\n",
        "\n",
        "        G_optimizer.zero_grad()\n",
        "\n",
        "        fake_images = G(z)\n",
        "        D_fake = D(fake_images)\n",
        "        G_loss = criterion(D_fake, y_real)\n",
        "        G_loss.backward()\n",
        "        G_optimizer.step()\n",
        "        G_running_loss += G_loss.item()\n",
        "    \n",
        "    D_running_loss /= len(data_loader)\n",
        "    G_running_loss /= len(data_loader)\n",
        "    \n",
        "    return D_running_loss, G_running_loss"
      ],
      "execution_count": 0,
      "outputs": []
    },
    {
      "metadata": {
        "id": "y3f2NnIqLnSc",
        "colab_type": "code",
        "colab": {}
      },
      "cell_type": "code",
      "source": [
        "def generate(epoch, G, log_dir='logs'):\n",
        "    G.eval()\n",
        "    \n",
        "    os.makedirs(log_dir, exist_ok=True)\n",
        "\n",
        "    # Generazione di numeri random per il generatore:\n",
        "    sample_z = torch.rand((64, z_dim))\n",
        "    sample_z = sample_z.to(device)\n",
        "    \n",
        "    # Generazione dei campioni con il generatore:\n",
        "    with torch.no_grad():\n",
        "        samples = G(sample_z).to('cpu')\n",
        "    save_image(samples, os.path.join(log_dir, 'epoch_%03d.png' % (epoch)))"
      ],
      "execution_count": 0,
      "outputs": []
    },
    {
      "metadata": {
        "id": "rcxWk9eHLsXx",
        "colab_type": "code",
        "colab": {}
      },
      "cell_type": "code",
      "source": [
        "# Training\n",
        "\n",
        "history = {}\n",
        "history['D_loss'] = []\n",
        "history['G_loss'] = []\n",
        "for epoch in range(num_epochs):\n",
        "    D_loss, G_loss = train(D, G, criterion, D_optimizer, G_optimizer, data_loader)\n",
        "    \n",
        "    print('epoch %d, D_loss: %.4f G_loss: %.4f' % (epoch + 1, D_loss, G_loss))\n",
        "    history['D_loss'].append(D_loss)\n",
        "    history['G_loss'].append(G_loss)\n",
        "    \n",
        "    # Genera un'immagine in una specifica epoca e salva il modello:\n",
        "    if epoch == 0 or epoch == 9 or epoch == 24:\n",
        "        generate(epoch + 1, G, log_dir)\n",
        "        torch.save(G.state_dict(), os.path.join(log_dir, 'G_%03d.pth' % (epoch + 1)))\n",
        "        torch.save(D.state_dict(), os.path.join(log_dir, 'D_%03d.pth' % (epoch + 1)))\n",
        "\n",
        "# Salva lo storico dell'apprendimento:\n",
        "with open(os.path.join(log_dir, 'history.pkl'), 'wb') as f:\n",
        "    pickle.dump(history, f)"
      ],
      "execution_count": 0,
      "outputs": []
    },
    {
      "metadata": {
        "id": "8Jdl1tOKLvNw",
        "colab_type": "code",
        "colab": {}
      },
      "cell_type": "code",
      "source": [
        "# Tracciamento della loss del Discriminatore e del Generatore:\n",
        "\n",
        "D_loss, G_loss = history['D_loss'], history['G_loss']\n",
        "plt.plot(D_loss, label='D_loss')\n",
        "plt.plot(G_loss, label='G_loss')\n",
        "plt.xlabel('epoch')\n",
        "plt.ylabel('loss')\n",
        "plt.legend()"
      ],
      "execution_count": 0,
      "outputs": []
    },
    {
      "metadata": {
        "id": "5AgnOSbSOxKJ",
        "colab_type": "code",
        "colab": {}
      },
      "cell_type": "code",
      "source": [
        "# Stampa delle immagini di output:\n",
        "\n",
        "from IPython.display import Image\n",
        "Image('logs/epoch_001.png')"
      ],
      "execution_count": 0,
      "outputs": []
    },
    {
      "metadata": {
        "id": "z2LE-60GOz3Y",
        "colab_type": "code",
        "colab": {}
      },
      "cell_type": "code",
      "source": [
        "Image('logs/epoch_010.png')"
      ],
      "execution_count": 0,
      "outputs": []
    },
    {
      "metadata": {
        "id": "16i6V8GOO184",
        "colab_type": "code",
        "colab": {}
      },
      "cell_type": "code",
      "source": [
        "Image('logs/epoch_025.png')"
      ],
      "execution_count": 0,
      "outputs": []
    },
    {
      "metadata": {
        "id": "Rfg0et_bUf-3",
        "colab_type": "text"
      },
      "cell_type": "markdown",
      "source": [
        "## Fashion MNIST"
      ]
    },
    {
      "metadata": {
        "id": "LtxfQzoKUhQ4",
        "colab_type": "code",
        "colab": {}
      },
      "cell_type": "code",
      "source": [
        "# Caricamento del dataset:\n",
        "transform = transforms.Compose([\n",
        "    transforms.ToTensor()\n",
        "])\n",
        "dataset = datasets.FashionMNIST('data/fashion-mnist', train=True, download=True, transform=transform)\n",
        "data_loader = DataLoader(dataset, batch_size=batch_size, shuffle=True, drop_last=True)  "
      ],
      "execution_count": 0,
      "outputs": []
    },
    {
      "metadata": {
        "id": "URNiYAZSUoOv",
        "colab_type": "code",
        "colab": {}
      },
      "cell_type": "code",
      "source": [
        "# Visualizzazione del dataset:\n",
        "def imshow(img):\n",
        "    npimg = img.numpy()\n",
        "    # [c, h, w] => [h, w, c]\n",
        "    plt.imshow(np.transpose(npimg, (1, 2, 0)))\n",
        "\n",
        "images, labels = iter(data_loader).next()\n",
        "images, labels = images[:25], labels[:25]\n",
        "imshow(make_grid(images, nrow=5, padding=1))\n",
        "plt.axis('off')"
      ],
      "execution_count": 0,
      "outputs": []
    },
    {
      "metadata": {
        "id": "FbAy-d8nUrGf",
        "colab_type": "code",
        "colab": {}
      },
      "cell_type": "code",
      "source": [
        "# Initialize network:\n",
        "G = Generator().to(device)\n",
        "D = Discriminator().to(device)\n",
        "\n",
        "# Optimizer:\n",
        "G_optimizer = optim.Adam(G.parameters(), lr=lr, betas=(0.5, 0.999))\n",
        "D_optimizer = optim.Adam(D.parameters(), lr=lr, betas=(0.5, 0.999))\n",
        "\n",
        "# Loss:\n",
        "criterion = nn.BCELoss()"
      ],
      "execution_count": 0,
      "outputs": []
    },
    {
      "metadata": {
        "id": "zY3FrpTeVDmg",
        "colab_type": "code",
        "colab": {}
      },
      "cell_type": "code",
      "source": [
        "# Training\n",
        "\n",
        "history = {}\n",
        "history['D_loss'] = []\n",
        "history['G_loss'] = []\n",
        "for epoch in range(num_epochs):\n",
        "    D_loss, G_loss = train(D, G, criterion, D_optimizer, G_optimizer, data_loader)\n",
        "    \n",
        "    print('epoch %d, D_loss: %.4f G_loss: %.4f' % (epoch + 1, D_loss, G_loss))\n",
        "    history['D_loss'].append(D_loss)\n",
        "    history['G_loss'].append(G_loss)\n",
        "    \n",
        "    # Genera un'immagine in una specifica epoca e salva il modello:\n",
        "    if epoch == 0 or epoch == 9 or epoch == 24:\n",
        "        generate(epoch + 1, G, log_dir)\n",
        "        torch.save(G.state_dict(), os.path.join(log_dir, 'G_%03d.pth' % (epoch + 1)))\n",
        "        torch.save(D.state_dict(), os.path.join(log_dir, 'D_%03d.pth' % (epoch + 1)))"
      ],
      "execution_count": 0,
      "outputs": []
    },
    {
      "metadata": {
        "id": "R3S3p75cVHzX",
        "colab_type": "code",
        "colab": {}
      },
      "cell_type": "code",
      "source": [
        "D_loss, G_loss = history['D_loss'], history['G_loss']\n",
        "plt.plot(D_loss, label='D_loss')\n",
        "plt.plot(G_loss, label='G_loss')\n",
        "plt.xlabel('epoch')\n",
        "plt.ylabel('loss')\n",
        "plt.legend()"
      ],
      "execution_count": 0,
      "outputs": []
    },
    {
      "metadata": {
        "id": "ASmYO2PbYeUz",
        "colab_type": "code",
        "colab": {}
      },
      "cell_type": "code",
      "source": [
        "from IPython.display import Image\n",
        "Image('logs/epoch_001.png')"
      ],
      "execution_count": 0,
      "outputs": []
    },
    {
      "metadata": {
        "id": "CSU63CcPYgp8",
        "colab_type": "code",
        "colab": {}
      },
      "cell_type": "code",
      "source": [
        "Image('logs/epoch_010.png')"
      ],
      "execution_count": 0,
      "outputs": []
    },
    {
      "metadata": {
        "id": "G0z5ydsSYjci",
        "colab_type": "code",
        "colab": {}
      },
      "cell_type": "code",
      "source": [
        "Image('logs/epoch_025.png')"
      ],
      "execution_count": 0,
      "outputs": []
    },
    {
      "metadata": {
        "id": "4FFIZPKDcb4v",
        "colab_type": "text"
      },
      "cell_type": "markdown",
      "source": [
        "## CelebA"
      ]
    },
    {
      "metadata": {
        "id": "dgHsnEingesZ",
        "colab_type": "code",
        "colab": {}
      },
      "cell_type": "code",
      "source": [
        "# Iper-parametri:\n",
        "\n",
        "batch_size = 128\n",
        "lr = 0.0002\n",
        "z_dim = 62\n",
        "num_epochs = 25\n",
        "sample_num = 16\n",
        "log_dir = './logs'"
      ],
      "execution_count": 0,
      "outputs": []
    },
    {
      "metadata": {
        "id": "Kia5YzTBu_v-",
        "colab_type": "code",
        "colab": {}
      },
      "cell_type": "code",
      "source": [
        "!mkdir data_faces && wget https://s3-us-west-1.amazonaws.com/udacity-dlnfd/datasets/celeba.zip "
      ],
      "execution_count": 0,
      "outputs": []
    },
    {
      "metadata": {
        "id": "zh63-9yevAR6",
        "colab_type": "code",
        "colab": {}
      },
      "cell_type": "code",
      "source": [
        "import zipfile\n",
        "\n",
        "with zipfile.ZipFile(\"celeba.zip\",\"r\") as zip_ref:\n",
        "  zip_ref.extractall(\"data_faces/\")"
      ],
      "execution_count": 0,
      "outputs": []
    },
    {
      "metadata": {
        "id": "0LJdcOvtvCp6",
        "colab_type": "code",
        "colab": {}
      },
      "cell_type": "code",
      "source": [
        "import os\n",
        "root = 'data_faces/img_align_celeba'\n",
        "img_list = os.listdir(root)\n",
        "print(len(img_list))"
      ],
      "execution_count": 0,
      "outputs": []
    },
    {
      "metadata": {
        "id": "R5_DZ8YOvEHi",
        "colab_type": "code",
        "colab": {}
      },
      "cell_type": "code",
      "source": [
        "!pip install Pillow\n",
        "!pip install image\n",
        "from PIL import Image\n",
        "\"\"\" data \"\"\"\n",
        "crop_size = 108\n",
        "re_size = 64\n",
        "offset_height = (218 - crop_size) // 2\n",
        "offset_width = (178 - crop_size) // 2\n",
        "crop = lambda x: x[:, offset_height:offset_height + crop_size, offset_width:offset_width + crop_size]"
      ],
      "execution_count": 0,
      "outputs": []
    },
    {
      "metadata": {
        "id": "rdivx5A4diTS",
        "colab_type": "code",
        "colab": {}
      },
      "cell_type": "code",
      "source": [
        "# Caricamento del dataset:\n",
        "transform = transforms.Compose([\n",
        "    transforms.CenterCrop(160),\n",
        "    transforms.Resize((64, 64)),\n",
        "    transforms.ToTensor()\n",
        "])\n",
        "\n",
        "dataset = datasets.ImageFolder('./data_faces', transform=transform)\n",
        "data_loader = DataLoader(dataset,batch_size=batch_size,shuffle=True,drop_last=True)"
      ],
      "execution_count": 0,
      "outputs": []
    },
    {
      "metadata": {
        "id": "0AroU_VwfWn9",
        "colab_type": "code",
        "colab": {}
      },
      "cell_type": "code",
      "source": [
        "# Visualizzazione del dataset:\n",
        "def imshow(img):\n",
        "    npimg = img.numpy()\n",
        "    # [c, h, w] => [h, w, c]\n",
        "    plt.imshow(np.transpose(npimg, (1, 2, 0)))\n",
        "\n",
        "images, labels = iter(data_loader).next()\n",
        "images, labels = images[:25], labels[:25]\n",
        "imshow(make_grid(images, nrow=5, padding=1))\n",
        "plt.axis('off')"
      ],
      "execution_count": 0,
      "outputs": []
    },
    {
      "metadata": {
        "id": "qvY-xNOygj-B",
        "colab_type": "code",
        "colab": {}
      },
      "cell_type": "code",
      "source": [
        "class Generator(nn.Module):\n",
        "    \n",
        "    def __init__(self):\n",
        "        super(Generator, self).__init__()\n",
        "        \n",
        "        self.fc = nn.Sequential(\n",
        "            nn.Linear(62, 1024),\n",
        "            nn.BatchNorm1d(1024),\n",
        "            nn.ReLU(),\n",
        "            nn.Linear(1024, 128 * 16 * 16),\n",
        "            nn.BatchNorm1d(128 * 16 * 16),\n",
        "            nn.ReLU(),\n",
        "        )\n",
        "        \n",
        "        self.deconv = nn.Sequential(\n",
        "            nn.ConvTranspose2d(128, 64, kernel_size=4, stride=2, padding=1),\n",
        "            nn.BatchNorm2d(64),\n",
        "            nn.ReLU(),\n",
        "            nn.ConvTranspose2d(64, 3, kernel_size=4, stride=2, padding=1),\n",
        "            nn.Sigmoid(),\n",
        "        )\n",
        "        \n",
        "        initialize_weights(self)\n",
        "\n",
        "    def forward(self, input):\n",
        "        x = self.fc(input)\n",
        "        x = x.view(-1, 128, 16, 16)\n",
        "        x = self.deconv(x)\n",
        "        return x\n",
        "\n",
        "class Discriminator(nn.Module):\n",
        "    \n",
        "    def __init__(self):\n",
        "        super(Discriminator, self).__init__()\n",
        "        \n",
        "        self.conv = nn.Sequential(\n",
        "            nn.Conv2d(3, 64, kernel_size=4, stride=2, padding=1),\n",
        "            nn.LeakyReLU(0.2),\n",
        "            nn.Conv2d(64, 128, kernel_size=4, stride=2, padding=1),\n",
        "            nn.BatchNorm2d(128),\n",
        "            nn.LeakyReLU(0.2),\n",
        "        )\n",
        "        \n",
        "        self.fc = nn.Sequential(\n",
        "            nn.Linear(128 * 16 * 16, 1024),\n",
        "            nn.BatchNorm1d(1024),\n",
        "            nn.LeakyReLU(0.2),\n",
        "            nn.Linear(1024, 1),\n",
        "            nn.Sigmoid(),\n",
        "        )\n",
        "        \n",
        "        initialize_weights(self)\n",
        "    \n",
        "    def forward(self, input):\n",
        "        x = self.conv(input)\n",
        "        x = x.view(-1, 128 * 16 * 16)\n",
        "        x = self.fc(x)\n",
        "        return x"
      ],
      "execution_count": 0,
      "outputs": []
    },
    {
      "metadata": {
        "id": "lfEgDkwdgnSw",
        "colab_type": "code",
        "colab": {}
      },
      "cell_type": "code",
      "source": [
        "# Initialize network:\n",
        "G = Generator().to(device)\n",
        "D = Discriminator().to(device)\n",
        "\n",
        "# Optimizer:\n",
        "G_optimizer = optim.Adam(G.parameters(), lr=lr, betas=(0.5, 0.999))\n",
        "D_optimizer = optim.Adam(D.parameters(), lr=lr, betas=(0.5, 0.999))\n",
        "\n",
        "# Loss:\n",
        "criterion = nn.BCELoss()"
      ],
      "execution_count": 0,
      "outputs": []
    },
    {
      "metadata": {
        "id": "CgkW58O3gpq_",
        "colab_type": "code",
        "colab": {}
      },
      "cell_type": "code",
      "source": [
        "history = {}\n",
        "history['D_loss'] = []\n",
        "history['G_loss'] = []\n",
        "for epoch in range(num_epochs):\n",
        "    D_loss, G_loss = train(D, G, criterion, D_optimizer, G_optimizer, data_loader)\n",
        "    \n",
        "    print('epoch %d, D_loss: %.4f G_loss: %.4f' % (epoch + 1, D_loss, G_loss))\n",
        "    history['D_loss'].append(D_loss)\n",
        "    history['G_loss'].append(G_loss)\n",
        "    \n",
        "    # Genera un'immagine in una specifica epoca e salva il modello:\n",
        "    if epoch == 0 or epoch == 9 or epoch == 19:\n",
        "        generate(epoch + 1, G, log_dir)\n",
        "        torch.save(G.state_dict(), os.path.join(log_dir, 'G_%03d.pth' % (epoch + 1)))\n",
        "        torch.save(D.state_dict(), os.path.join(log_dir, 'D_%03d.pth' % (epoch + 1)))"
      ],
      "execution_count": 0,
      "outputs": []
    },
    {
      "metadata": {
        "id": "dtrM1pnogvxX",
        "colab_type": "code",
        "colab": {}
      },
      "cell_type": "code",
      "source": [
        "D_loss, G_loss = history['D_loss'], history['G_loss']\n",
        "plt.plot(D_loss, label='D_loss')\n",
        "plt.plot(G_loss, label='G_loss')\n",
        "plt.xlabel('epoch')\n",
        "plt.ylabel('loss')\n",
        "plt.legend()"
      ],
      "execution_count": 0,
      "outputs": []
    },
    {
      "metadata": {
        "id": "0FFnLWmJg-wt",
        "colab_type": "code",
        "colab": {}
      },
      "cell_type": "code",
      "source": [
        "from IPython.display import Image\n",
        "Image('logs/epoch_001.png')"
      ],
      "execution_count": 0,
      "outputs": []
    },
    {
      "metadata": {
        "id": "S8RHu8pwhDl8",
        "colab_type": "code",
        "colab": {}
      },
      "cell_type": "code",
      "source": [
        "Image('logs/epoch_010.png')"
      ],
      "execution_count": 0,
      "outputs": []
    },
    {
      "metadata": {
        "id": "fGDCfDI5hJ7C",
        "colab_type": "code",
        "colab": {}
      },
      "cell_type": "code",
      "source": [
        "Image('logs/epoch_020.png')"
      ],
      "execution_count": 0,
      "outputs": []
    }
  ]
}